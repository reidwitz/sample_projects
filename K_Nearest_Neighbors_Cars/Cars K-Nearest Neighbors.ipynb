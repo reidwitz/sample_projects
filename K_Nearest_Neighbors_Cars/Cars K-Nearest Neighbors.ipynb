{
 "cells": [
  {
   "cell_type": "markdown",
   "metadata": {},
   "source": [
    "# Predicting Car Market Prices\n",
    "\n",
    "In this project, we'll be using k-nearest neighbors to predict the market price of cars. We have information about the technical features of each car from the dataset [here](https://archive.ics.uci.edu/ml/machine-learning-databases/autos/imports-85.data)."
   ]
  },
  {
   "cell_type": "code",
   "execution_count": 1,
   "metadata": {},
   "outputs": [],
   "source": [
    "# Import libraries\n",
    "\n",
    "import pandas as pd\n",
    "import numpy as np\n",
    "import math\n",
    "from sklearn.neighbors import KNeighborsRegressor\n",
    "from sklearn.metrics import mean_squared_error\n",
    "\n",
    "pd.options.display.max_columns = 99"
   ]
  },
  {
   "cell_type": "code",
   "execution_count": 2,
   "metadata": {},
   "outputs": [],
   "source": [
    "# Read the file\n",
    "\n",
    "cols = ['symboling', 'normalized-losses', 'make', 'fuel-type', 'aspiration', 'num-of-doors', 'body-style', \n",
    "        'drive-wheels', 'engine-location', 'wheel-base', 'length', 'width', 'height', 'curb-weight', 'engine-type', \n",
    "        'num-of-cylinders', 'engine-size', 'fuel-system', 'bore', 'stroke', 'compression-ratio', 'horsepower', \n",
    "         'peak-rpm', 'city-mpg', 'highway-mpg', 'price']\n",
    "\n",
    "cars = pd.read_csv('imports-85.data',names=cols)"
   ]
  },
  {
   "cell_type": "markdown",
   "metadata": {},
   "source": [
    "## Data Exploration"
   ]
  },
  {
   "cell_type": "code",
   "execution_count": 3,
   "metadata": {},
   "outputs": [
    {
     "data": {
      "text/html": [
       "<div>\n",
       "<style scoped>\n",
       "    .dataframe tbody tr th:only-of-type {\n",
       "        vertical-align: middle;\n",
       "    }\n",
       "\n",
       "    .dataframe tbody tr th {\n",
       "        vertical-align: top;\n",
       "    }\n",
       "\n",
       "    .dataframe thead th {\n",
       "        text-align: right;\n",
       "    }\n",
       "</style>\n",
       "<table border=\"1\" class=\"dataframe\">\n",
       "  <thead>\n",
       "    <tr style=\"text-align: right;\">\n",
       "      <th></th>\n",
       "      <th>symboling</th>\n",
       "      <th>normalized-losses</th>\n",
       "      <th>make</th>\n",
       "      <th>fuel-type</th>\n",
       "      <th>aspiration</th>\n",
       "      <th>num-of-doors</th>\n",
       "      <th>body-style</th>\n",
       "      <th>drive-wheels</th>\n",
       "      <th>engine-location</th>\n",
       "      <th>wheel-base</th>\n",
       "      <th>length</th>\n",
       "      <th>width</th>\n",
       "      <th>height</th>\n",
       "      <th>curb-weight</th>\n",
       "      <th>engine-type</th>\n",
       "      <th>num-of-cylinders</th>\n",
       "      <th>engine-size</th>\n",
       "      <th>fuel-system</th>\n",
       "      <th>bore</th>\n",
       "      <th>stroke</th>\n",
       "      <th>compression-ratio</th>\n",
       "      <th>horsepower</th>\n",
       "      <th>peak-rpm</th>\n",
       "      <th>city-mpg</th>\n",
       "      <th>highway-mpg</th>\n",
       "      <th>price</th>\n",
       "    </tr>\n",
       "  </thead>\n",
       "  <tbody>\n",
       "    <tr>\n",
       "      <th>0</th>\n",
       "      <td>3</td>\n",
       "      <td>?</td>\n",
       "      <td>alfa-romero</td>\n",
       "      <td>gas</td>\n",
       "      <td>std</td>\n",
       "      <td>two</td>\n",
       "      <td>convertible</td>\n",
       "      <td>rwd</td>\n",
       "      <td>front</td>\n",
       "      <td>88.6</td>\n",
       "      <td>168.8</td>\n",
       "      <td>64.1</td>\n",
       "      <td>48.8</td>\n",
       "      <td>2548</td>\n",
       "      <td>dohc</td>\n",
       "      <td>four</td>\n",
       "      <td>130</td>\n",
       "      <td>mpfi</td>\n",
       "      <td>3.47</td>\n",
       "      <td>2.68</td>\n",
       "      <td>9.0</td>\n",
       "      <td>111</td>\n",
       "      <td>5000</td>\n",
       "      <td>21</td>\n",
       "      <td>27</td>\n",
       "      <td>13495</td>\n",
       "    </tr>\n",
       "    <tr>\n",
       "      <th>1</th>\n",
       "      <td>3</td>\n",
       "      <td>?</td>\n",
       "      <td>alfa-romero</td>\n",
       "      <td>gas</td>\n",
       "      <td>std</td>\n",
       "      <td>two</td>\n",
       "      <td>convertible</td>\n",
       "      <td>rwd</td>\n",
       "      <td>front</td>\n",
       "      <td>88.6</td>\n",
       "      <td>168.8</td>\n",
       "      <td>64.1</td>\n",
       "      <td>48.8</td>\n",
       "      <td>2548</td>\n",
       "      <td>dohc</td>\n",
       "      <td>four</td>\n",
       "      <td>130</td>\n",
       "      <td>mpfi</td>\n",
       "      <td>3.47</td>\n",
       "      <td>2.68</td>\n",
       "      <td>9.0</td>\n",
       "      <td>111</td>\n",
       "      <td>5000</td>\n",
       "      <td>21</td>\n",
       "      <td>27</td>\n",
       "      <td>16500</td>\n",
       "    </tr>\n",
       "    <tr>\n",
       "      <th>2</th>\n",
       "      <td>1</td>\n",
       "      <td>?</td>\n",
       "      <td>alfa-romero</td>\n",
       "      <td>gas</td>\n",
       "      <td>std</td>\n",
       "      <td>two</td>\n",
       "      <td>hatchback</td>\n",
       "      <td>rwd</td>\n",
       "      <td>front</td>\n",
       "      <td>94.5</td>\n",
       "      <td>171.2</td>\n",
       "      <td>65.5</td>\n",
       "      <td>52.4</td>\n",
       "      <td>2823</td>\n",
       "      <td>ohcv</td>\n",
       "      <td>six</td>\n",
       "      <td>152</td>\n",
       "      <td>mpfi</td>\n",
       "      <td>2.68</td>\n",
       "      <td>3.47</td>\n",
       "      <td>9.0</td>\n",
       "      <td>154</td>\n",
       "      <td>5000</td>\n",
       "      <td>19</td>\n",
       "      <td>26</td>\n",
       "      <td>16500</td>\n",
       "    </tr>\n",
       "    <tr>\n",
       "      <th>3</th>\n",
       "      <td>2</td>\n",
       "      <td>164</td>\n",
       "      <td>audi</td>\n",
       "      <td>gas</td>\n",
       "      <td>std</td>\n",
       "      <td>four</td>\n",
       "      <td>sedan</td>\n",
       "      <td>fwd</td>\n",
       "      <td>front</td>\n",
       "      <td>99.8</td>\n",
       "      <td>176.6</td>\n",
       "      <td>66.2</td>\n",
       "      <td>54.3</td>\n",
       "      <td>2337</td>\n",
       "      <td>ohc</td>\n",
       "      <td>four</td>\n",
       "      <td>109</td>\n",
       "      <td>mpfi</td>\n",
       "      <td>3.19</td>\n",
       "      <td>3.40</td>\n",
       "      <td>10.0</td>\n",
       "      <td>102</td>\n",
       "      <td>5500</td>\n",
       "      <td>24</td>\n",
       "      <td>30</td>\n",
       "      <td>13950</td>\n",
       "    </tr>\n",
       "    <tr>\n",
       "      <th>4</th>\n",
       "      <td>2</td>\n",
       "      <td>164</td>\n",
       "      <td>audi</td>\n",
       "      <td>gas</td>\n",
       "      <td>std</td>\n",
       "      <td>four</td>\n",
       "      <td>sedan</td>\n",
       "      <td>4wd</td>\n",
       "      <td>front</td>\n",
       "      <td>99.4</td>\n",
       "      <td>176.6</td>\n",
       "      <td>66.4</td>\n",
       "      <td>54.3</td>\n",
       "      <td>2824</td>\n",
       "      <td>ohc</td>\n",
       "      <td>five</td>\n",
       "      <td>136</td>\n",
       "      <td>mpfi</td>\n",
       "      <td>3.19</td>\n",
       "      <td>3.40</td>\n",
       "      <td>8.0</td>\n",
       "      <td>115</td>\n",
       "      <td>5500</td>\n",
       "      <td>18</td>\n",
       "      <td>22</td>\n",
       "      <td>17450</td>\n",
       "    </tr>\n",
       "  </tbody>\n",
       "</table>\n",
       "</div>"
      ],
      "text/plain": [
       "   symboling normalized-losses         make fuel-type aspiration num-of-doors  \\\n",
       "0          3                 ?  alfa-romero       gas        std          two   \n",
       "1          3                 ?  alfa-romero       gas        std          two   \n",
       "2          1                 ?  alfa-romero       gas        std          two   \n",
       "3          2               164         audi       gas        std         four   \n",
       "4          2               164         audi       gas        std         four   \n",
       "\n",
       "    body-style drive-wheels engine-location  wheel-base  length  width  \\\n",
       "0  convertible          rwd           front        88.6   168.8   64.1   \n",
       "1  convertible          rwd           front        88.6   168.8   64.1   \n",
       "2    hatchback          rwd           front        94.5   171.2   65.5   \n",
       "3        sedan          fwd           front        99.8   176.6   66.2   \n",
       "4        sedan          4wd           front        99.4   176.6   66.4   \n",
       "\n",
       "   height  curb-weight engine-type num-of-cylinders  engine-size fuel-system  \\\n",
       "0    48.8         2548        dohc             four          130        mpfi   \n",
       "1    48.8         2548        dohc             four          130        mpfi   \n",
       "2    52.4         2823        ohcv              six          152        mpfi   \n",
       "3    54.3         2337         ohc             four          109        mpfi   \n",
       "4    54.3         2824         ohc             five          136        mpfi   \n",
       "\n",
       "   bore stroke  compression-ratio horsepower peak-rpm  city-mpg  highway-mpg  \\\n",
       "0  3.47   2.68                9.0        111     5000        21           27   \n",
       "1  3.47   2.68                9.0        111     5000        21           27   \n",
       "2  2.68   3.47                9.0        154     5000        19           26   \n",
       "3  3.19   3.40               10.0        102     5500        24           30   \n",
       "4  3.19   3.40                8.0        115     5500        18           22   \n",
       "\n",
       "   price  \n",
       "0  13495  \n",
       "1  16500  \n",
       "2  16500  \n",
       "3  13950  \n",
       "4  17450  "
      ]
     },
     "execution_count": 3,
     "metadata": {},
     "output_type": "execute_result"
    }
   ],
   "source": [
    "cars.head()"
   ]
  },
  {
   "cell_type": "code",
   "execution_count": 4,
   "metadata": {
    "scrolled": true
   },
   "outputs": [
    {
     "name": "stdout",
     "output_type": "stream",
     "text": [
      "<class 'pandas.core.frame.DataFrame'>\n",
      "RangeIndex: 205 entries, 0 to 204\n",
      "Data columns (total 26 columns):\n",
      " #   Column             Non-Null Count  Dtype  \n",
      "---  ------             --------------  -----  \n",
      " 0   symboling          205 non-null    int64  \n",
      " 1   normalized-losses  205 non-null    object \n",
      " 2   make               205 non-null    object \n",
      " 3   fuel-type          205 non-null    object \n",
      " 4   aspiration         205 non-null    object \n",
      " 5   num-of-doors       205 non-null    object \n",
      " 6   body-style         205 non-null    object \n",
      " 7   drive-wheels       205 non-null    object \n",
      " 8   engine-location    205 non-null    object \n",
      " 9   wheel-base         205 non-null    float64\n",
      " 10  length             205 non-null    float64\n",
      " 11  width              205 non-null    float64\n",
      " 12  height             205 non-null    float64\n",
      " 13  curb-weight        205 non-null    int64  \n",
      " 14  engine-type        205 non-null    object \n",
      " 15  num-of-cylinders   205 non-null    object \n",
      " 16  engine-size        205 non-null    int64  \n",
      " 17  fuel-system        205 non-null    object \n",
      " 18  bore               205 non-null    object \n",
      " 19  stroke             205 non-null    object \n",
      " 20  compression-ratio  205 non-null    float64\n",
      " 21  horsepower         205 non-null    object \n",
      " 22  peak-rpm           205 non-null    object \n",
      " 23  city-mpg           205 non-null    int64  \n",
      " 24  highway-mpg        205 non-null    int64  \n",
      " 25  price              205 non-null    object \n",
      "dtypes: float64(5), int64(5), object(16)\n",
      "memory usage: 41.8+ KB\n"
     ]
    }
   ],
   "source": [
    "cars.info()"
   ]
  },
  {
   "cell_type": "markdown",
   "metadata": {},
   "source": [
    "## Choosing Columns to keep\n",
    "\n",
    "We will keep all columns that contain continuous values as described in the dataset's [documentation](https://archive.ics.uci.edu/ml/datasets/automobile)."
   ]
  },
  {
   "cell_type": "code",
   "execution_count": 5,
   "metadata": {},
   "outputs": [],
   "source": [
    "keep_cols = ['normalized-losses','wheel-base','length','width','height','curb-weight',\n",
    "            'engine-size','bore','stroke','compression-ratio','horsepower','peak-rpm',\n",
    "            'city-mpg','highway-mpg','price']"
   ]
  },
  {
   "cell_type": "code",
   "execution_count": 6,
   "metadata": {},
   "outputs": [
    {
     "data": {
      "text/html": [
       "<div>\n",
       "<style scoped>\n",
       "    .dataframe tbody tr th:only-of-type {\n",
       "        vertical-align: middle;\n",
       "    }\n",
       "\n",
       "    .dataframe tbody tr th {\n",
       "        vertical-align: top;\n",
       "    }\n",
       "\n",
       "    .dataframe thead th {\n",
       "        text-align: right;\n",
       "    }\n",
       "</style>\n",
       "<table border=\"1\" class=\"dataframe\">\n",
       "  <thead>\n",
       "    <tr style=\"text-align: right;\">\n",
       "      <th></th>\n",
       "      <th>normalized-losses</th>\n",
       "      <th>wheel-base</th>\n",
       "      <th>length</th>\n",
       "      <th>width</th>\n",
       "      <th>height</th>\n",
       "      <th>curb-weight</th>\n",
       "      <th>engine-size</th>\n",
       "      <th>bore</th>\n",
       "      <th>stroke</th>\n",
       "      <th>compression-ratio</th>\n",
       "      <th>horsepower</th>\n",
       "      <th>peak-rpm</th>\n",
       "      <th>city-mpg</th>\n",
       "      <th>highway-mpg</th>\n",
       "      <th>price</th>\n",
       "    </tr>\n",
       "  </thead>\n",
       "  <tbody>\n",
       "    <tr>\n",
       "      <th>0</th>\n",
       "      <td>?</td>\n",
       "      <td>88.6</td>\n",
       "      <td>168.8</td>\n",
       "      <td>64.1</td>\n",
       "      <td>48.8</td>\n",
       "      <td>2548</td>\n",
       "      <td>130</td>\n",
       "      <td>3.47</td>\n",
       "      <td>2.68</td>\n",
       "      <td>9.0</td>\n",
       "      <td>111</td>\n",
       "      <td>5000</td>\n",
       "      <td>21</td>\n",
       "      <td>27</td>\n",
       "      <td>13495</td>\n",
       "    </tr>\n",
       "    <tr>\n",
       "      <th>1</th>\n",
       "      <td>?</td>\n",
       "      <td>88.6</td>\n",
       "      <td>168.8</td>\n",
       "      <td>64.1</td>\n",
       "      <td>48.8</td>\n",
       "      <td>2548</td>\n",
       "      <td>130</td>\n",
       "      <td>3.47</td>\n",
       "      <td>2.68</td>\n",
       "      <td>9.0</td>\n",
       "      <td>111</td>\n",
       "      <td>5000</td>\n",
       "      <td>21</td>\n",
       "      <td>27</td>\n",
       "      <td>16500</td>\n",
       "    </tr>\n",
       "    <tr>\n",
       "      <th>2</th>\n",
       "      <td>?</td>\n",
       "      <td>94.5</td>\n",
       "      <td>171.2</td>\n",
       "      <td>65.5</td>\n",
       "      <td>52.4</td>\n",
       "      <td>2823</td>\n",
       "      <td>152</td>\n",
       "      <td>2.68</td>\n",
       "      <td>3.47</td>\n",
       "      <td>9.0</td>\n",
       "      <td>154</td>\n",
       "      <td>5000</td>\n",
       "      <td>19</td>\n",
       "      <td>26</td>\n",
       "      <td>16500</td>\n",
       "    </tr>\n",
       "    <tr>\n",
       "      <th>3</th>\n",
       "      <td>164</td>\n",
       "      <td>99.8</td>\n",
       "      <td>176.6</td>\n",
       "      <td>66.2</td>\n",
       "      <td>54.3</td>\n",
       "      <td>2337</td>\n",
       "      <td>109</td>\n",
       "      <td>3.19</td>\n",
       "      <td>3.40</td>\n",
       "      <td>10.0</td>\n",
       "      <td>102</td>\n",
       "      <td>5500</td>\n",
       "      <td>24</td>\n",
       "      <td>30</td>\n",
       "      <td>13950</td>\n",
       "    </tr>\n",
       "    <tr>\n",
       "      <th>4</th>\n",
       "      <td>164</td>\n",
       "      <td>99.4</td>\n",
       "      <td>176.6</td>\n",
       "      <td>66.4</td>\n",
       "      <td>54.3</td>\n",
       "      <td>2824</td>\n",
       "      <td>136</td>\n",
       "      <td>3.19</td>\n",
       "      <td>3.40</td>\n",
       "      <td>8.0</td>\n",
       "      <td>115</td>\n",
       "      <td>5500</td>\n",
       "      <td>18</td>\n",
       "      <td>22</td>\n",
       "      <td>17450</td>\n",
       "    </tr>\n",
       "  </tbody>\n",
       "</table>\n",
       "</div>"
      ],
      "text/plain": [
       "  normalized-losses  wheel-base  length  width  height  curb-weight  \\\n",
       "0                 ?        88.6   168.8   64.1    48.8         2548   \n",
       "1                 ?        88.6   168.8   64.1    48.8         2548   \n",
       "2                 ?        94.5   171.2   65.5    52.4         2823   \n",
       "3               164        99.8   176.6   66.2    54.3         2337   \n",
       "4               164        99.4   176.6   66.4    54.3         2824   \n",
       "\n",
       "   engine-size  bore stroke  compression-ratio horsepower peak-rpm  city-mpg  \\\n",
       "0          130  3.47   2.68                9.0        111     5000        21   \n",
       "1          130  3.47   2.68                9.0        111     5000        21   \n",
       "2          152  2.68   3.47                9.0        154     5000        19   \n",
       "3          109  3.19   3.40               10.0        102     5500        24   \n",
       "4          136  3.19   3.40                8.0        115     5500        18   \n",
       "\n",
       "   highway-mpg  price  \n",
       "0           27  13495  \n",
       "1           27  16500  \n",
       "2           26  16500  \n",
       "3           30  13950  \n",
       "4           22  17450  "
      ]
     },
     "execution_count": 6,
     "metadata": {},
     "output_type": "execute_result"
    }
   ],
   "source": [
    "continuous_cars = cars[keep_cols].copy()\n",
    "continuous_cars.head()"
   ]
  },
  {
   "cell_type": "code",
   "execution_count": 7,
   "metadata": {},
   "outputs": [],
   "source": [
    "continuous_cars = continuous_cars.replace(to_replace='?', value=np.nan)"
   ]
  },
  {
   "cell_type": "code",
   "execution_count": 8,
   "metadata": {},
   "outputs": [],
   "source": [
    "continuous_cars = continuous_cars.astype(float)"
   ]
  },
  {
   "cell_type": "code",
   "execution_count": 9,
   "metadata": {},
   "outputs": [
    {
     "data": {
      "text/plain": [
       "41"
      ]
     },
     "execution_count": 9,
     "metadata": {},
     "output_type": "execute_result"
    }
   ],
   "source": [
    "len(continuous_cars[continuous_cars['normalized-losses'].isnull()])"
   ]
  },
  {
   "cell_type": "code",
   "execution_count": 10,
   "metadata": {},
   "outputs": [
    {
     "name": "stdout",
     "output_type": "stream",
     "text": [
      "<class 'pandas.core.frame.DataFrame'>\n",
      "RangeIndex: 205 entries, 0 to 204\n",
      "Data columns (total 15 columns):\n",
      " #   Column             Non-Null Count  Dtype  \n",
      "---  ------             --------------  -----  \n",
      " 0   normalized-losses  164 non-null    float64\n",
      " 1   wheel-base         205 non-null    float64\n",
      " 2   length             205 non-null    float64\n",
      " 3   width              205 non-null    float64\n",
      " 4   height             205 non-null    float64\n",
      " 5   curb-weight        205 non-null    float64\n",
      " 6   engine-size        205 non-null    float64\n",
      " 7   bore               201 non-null    float64\n",
      " 8   stroke             201 non-null    float64\n",
      " 9   compression-ratio  205 non-null    float64\n",
      " 10  horsepower         203 non-null    float64\n",
      " 11  peak-rpm           203 non-null    float64\n",
      " 12  city-mpg           205 non-null    float64\n",
      " 13  highway-mpg        205 non-null    float64\n",
      " 14  price              201 non-null    float64\n",
      "dtypes: float64(15)\n",
      "memory usage: 24.1 KB\n"
     ]
    }
   ],
   "source": [
    "continuous_cars.info()"
   ]
  },
  {
   "cell_type": "markdown",
   "metadata": {},
   "source": [
    "## Data Cleaning\n",
    "\n",
    "We will drop the normalized-losses column since it has about a fifth of the data missing. We will also drop any rows missing the price data since we are trying to predict the price. For the other columns, we will fill missing values with the mean."
   ]
  },
  {
   "cell_type": "code",
   "execution_count": 11,
   "metadata": {},
   "outputs": [],
   "source": [
    "continuous_cars = continuous_cars.drop(columns=['normalized-losses'])"
   ]
  },
  {
   "cell_type": "code",
   "execution_count": 12,
   "metadata": {},
   "outputs": [],
   "source": [
    "continuous_cars = continuous_cars.dropna(subset=['price'])\n",
    "continuous_cars = continuous_cars.fillna(continuous_cars.mean())"
   ]
  },
  {
   "cell_type": "code",
   "execution_count": 13,
   "metadata": {},
   "outputs": [
    {
     "name": "stdout",
     "output_type": "stream",
     "text": [
      "<class 'pandas.core.frame.DataFrame'>\n",
      "Int64Index: 201 entries, 0 to 204\n",
      "Data columns (total 14 columns):\n",
      " #   Column             Non-Null Count  Dtype  \n",
      "---  ------             --------------  -----  \n",
      " 0   wheel-base         201 non-null    float64\n",
      " 1   length             201 non-null    float64\n",
      " 2   width              201 non-null    float64\n",
      " 3   height             201 non-null    float64\n",
      " 4   curb-weight        201 non-null    float64\n",
      " 5   engine-size        201 non-null    float64\n",
      " 6   bore               201 non-null    float64\n",
      " 7   stroke             201 non-null    float64\n",
      " 8   compression-ratio  201 non-null    float64\n",
      " 9   horsepower         201 non-null    float64\n",
      " 10  peak-rpm           201 non-null    float64\n",
      " 11  city-mpg           201 non-null    float64\n",
      " 12  highway-mpg        201 non-null    float64\n",
      " 13  price              201 non-null    float64\n",
      "dtypes: float64(14)\n",
      "memory usage: 23.6 KB\n"
     ]
    }
   ],
   "source": [
    "continuous_cars.info()"
   ]
  },
  {
   "cell_type": "markdown",
   "metadata": {},
   "source": [
    "## Normalize Data\n",
    "\n",
    "In order to compare data with different ranges, we'll normalize the numerical data we've kept."
   ]
  },
  {
   "cell_type": "code",
   "execution_count": 14,
   "metadata": {},
   "outputs": [],
   "source": [
    "normalized_cars = (continuous_cars - continuous_cars.mean()) / (continuous_cars.std())\n",
    "\n",
    "normalized_cars['price'] = continuous_cars['price']"
   ]
  },
  {
   "cell_type": "code",
   "execution_count": 15,
   "metadata": {
    "scrolled": true
   },
   "outputs": [
    {
     "data": {
      "text/html": [
       "<div>\n",
       "<style scoped>\n",
       "    .dataframe tbody tr th:only-of-type {\n",
       "        vertical-align: middle;\n",
       "    }\n",
       "\n",
       "    .dataframe tbody tr th {\n",
       "        vertical-align: top;\n",
       "    }\n",
       "\n",
       "    .dataframe thead th {\n",
       "        text-align: right;\n",
       "    }\n",
       "</style>\n",
       "<table border=\"1\" class=\"dataframe\">\n",
       "  <thead>\n",
       "    <tr style=\"text-align: right;\">\n",
       "      <th></th>\n",
       "      <th>wheel-base</th>\n",
       "      <th>length</th>\n",
       "      <th>width</th>\n",
       "      <th>height</th>\n",
       "      <th>curb-weight</th>\n",
       "      <th>engine-size</th>\n",
       "      <th>bore</th>\n",
       "      <th>stroke</th>\n",
       "      <th>compression-ratio</th>\n",
       "      <th>horsepower</th>\n",
       "      <th>peak-rpm</th>\n",
       "      <th>city-mpg</th>\n",
       "      <th>highway-mpg</th>\n",
       "      <th>price</th>\n",
       "    </tr>\n",
       "  </thead>\n",
       "  <tbody>\n",
       "    <tr>\n",
       "      <th>0</th>\n",
       "      <td>-1.680910</td>\n",
       "      <td>-0.438315</td>\n",
       "      <td>-0.851335</td>\n",
       "      <td>-2.029015</td>\n",
       "      <td>-0.014821</td>\n",
       "      <td>0.075201</td>\n",
       "      <td>0.519597</td>\n",
       "      <td>-1.825369</td>\n",
       "      <td>-0.290709</td>\n",
       "      <td>0.203476</td>\n",
       "      <td>-0.245942</td>\n",
       "      <td>-0.650624</td>\n",
       "      <td>-0.540937</td>\n",
       "      <td>13495.0</td>\n",
       "    </tr>\n",
       "    <tr>\n",
       "      <th>1</th>\n",
       "      <td>-1.680910</td>\n",
       "      <td>-0.438315</td>\n",
       "      <td>-0.851335</td>\n",
       "      <td>-2.029015</td>\n",
       "      <td>-0.014821</td>\n",
       "      <td>0.075201</td>\n",
       "      <td>0.519597</td>\n",
       "      <td>-1.825369</td>\n",
       "      <td>-0.290709</td>\n",
       "      <td>0.203476</td>\n",
       "      <td>-0.245942</td>\n",
       "      <td>-0.650624</td>\n",
       "      <td>-0.540937</td>\n",
       "      <td>16500.0</td>\n",
       "    </tr>\n",
       "    <tr>\n",
       "      <th>2</th>\n",
       "      <td>-0.708334</td>\n",
       "      <td>-0.243544</td>\n",
       "      <td>-0.185134</td>\n",
       "      <td>-0.558319</td>\n",
       "      <td>0.516789</td>\n",
       "      <td>0.604724</td>\n",
       "      <td>-2.427374</td>\n",
       "      <td>0.674254</td>\n",
       "      <td>-0.290709</td>\n",
       "      <td>1.354267</td>\n",
       "      <td>-0.245942</td>\n",
       "      <td>-0.961995</td>\n",
       "      <td>-0.687669</td>\n",
       "      <td>16500.0</td>\n",
       "    </tr>\n",
       "    <tr>\n",
       "      <th>3</th>\n",
       "      <td>0.165335</td>\n",
       "      <td>0.194690</td>\n",
       "      <td>0.147966</td>\n",
       "      <td>0.217881</td>\n",
       "      <td>-0.422710</td>\n",
       "      <td>-0.430252</td>\n",
       "      <td>-0.524899</td>\n",
       "      <td>0.452769</td>\n",
       "      <td>-0.041019</td>\n",
       "      <td>-0.037387</td>\n",
       "      <td>0.799836</td>\n",
       "      <td>-0.183569</td>\n",
       "      <td>-0.100741</td>\n",
       "      <td>13950.0</td>\n",
       "    </tr>\n",
       "    <tr>\n",
       "      <th>4</th>\n",
       "      <td>0.099398</td>\n",
       "      <td>0.194690</td>\n",
       "      <td>0.243137</td>\n",
       "      <td>0.217881</td>\n",
       "      <td>0.518722</td>\n",
       "      <td>0.219617</td>\n",
       "      <td>-0.524899</td>\n",
       "      <td>0.452769</td>\n",
       "      <td>-0.540399</td>\n",
       "      <td>0.310527</td>\n",
       "      <td>0.799836</td>\n",
       "      <td>-1.117680</td>\n",
       "      <td>-1.274597</td>\n",
       "      <td>17450.0</td>\n",
       "    </tr>\n",
       "  </tbody>\n",
       "</table>\n",
       "</div>"
      ],
      "text/plain": [
       "   wheel-base    length     width    height  curb-weight  engine-size  \\\n",
       "0   -1.680910 -0.438315 -0.851335 -2.029015    -0.014821     0.075201   \n",
       "1   -1.680910 -0.438315 -0.851335 -2.029015    -0.014821     0.075201   \n",
       "2   -0.708334 -0.243544 -0.185134 -0.558319     0.516789     0.604724   \n",
       "3    0.165335  0.194690  0.147966  0.217881    -0.422710    -0.430252   \n",
       "4    0.099398  0.194690  0.243137  0.217881     0.518722     0.219617   \n",
       "\n",
       "       bore    stroke  compression-ratio  horsepower  peak-rpm  city-mpg  \\\n",
       "0  0.519597 -1.825369          -0.290709    0.203476 -0.245942 -0.650624   \n",
       "1  0.519597 -1.825369          -0.290709    0.203476 -0.245942 -0.650624   \n",
       "2 -2.427374  0.674254          -0.290709    1.354267 -0.245942 -0.961995   \n",
       "3 -0.524899  0.452769          -0.041019   -0.037387  0.799836 -0.183569   \n",
       "4 -0.524899  0.452769          -0.540399    0.310527  0.799836 -1.117680   \n",
       "\n",
       "   highway-mpg    price  \n",
       "0    -0.540937  13495.0  \n",
       "1    -0.540937  16500.0  \n",
       "2    -0.687669  16500.0  \n",
       "3    -0.100741  13950.0  \n",
       "4    -1.274597  17450.0  "
      ]
     },
     "execution_count": 15,
     "metadata": {},
     "output_type": "execute_result"
    }
   ],
   "source": [
    "normalized_cars.head()"
   ]
  },
  {
   "cell_type": "markdown",
   "metadata": {},
   "source": [
    "## Univariate K-Nearest Neighbors"
   ]
  },
  {
   "cell_type": "code",
   "execution_count": 16,
   "metadata": {},
   "outputs": [],
   "source": [
    "def knn_train_test(train_col, target_col, df, k=5):\n",
    "    np.random.seed(1)\n",
    "    # Randomize the order of the input dataframe\n",
    "    shuffled_index = np.random.permutation(df.index)\n",
    "    rand_df = df.reindex(shuffled_index)\n",
    "    #Find the row at which we split the dataframe into train and test\n",
    "    split = int(round(len(df)*0.8,0))\n",
    "    \n",
    "    #Split the data\n",
    "    train = rand_df.iloc[0:split]\n",
    "    test = rand_df.iloc[split:]\n",
    "    \n",
    "    #Istantiate and fit the model, then predict test values\n",
    "    model = KNeighborsRegressor(n_neighbors = k)\n",
    "    model.fit(train[[train_col]],train[target_col])\n",
    "    prediction = model.predict(test[[train_col]])\n",
    "    \n",
    "    #Compute root mean squared error of test\n",
    "    rmse = (mean_squared_error(test[target_col],prediction))**0.5\n",
    "    \n",
    "    return(rmse)\n",
    "    \n"
   ]
  },
  {
   "cell_type": "code",
   "execution_count": 17,
   "metadata": {},
   "outputs": [],
   "source": [
    "train_cols = normalized_cars.columns.drop('price')\n",
    "rmses = {}\n",
    "\n",
    "for col in train_cols:\n",
    "    rmse = knn_train_test(col,'price',normalized_cars,5)\n",
    "    rmses[col] = rmse\n"
   ]
  },
  {
   "cell_type": "code",
   "execution_count": 18,
   "metadata": {},
   "outputs": [],
   "source": [
    "rmses_series = pd.Series(rmses)\n",
    "rmses_series.sort_values(inplace=True)"
   ]
  },
  {
   "cell_type": "code",
   "execution_count": 19,
   "metadata": {},
   "outputs": [
    {
     "data": {
      "text/plain": [
       "engine-size          3070.028813\n",
       "curb-weight          3316.148830\n",
       "city-mpg             3828.302969\n",
       "highway-mpg          3984.251642\n",
       "width                4189.451002\n",
       "wheel-base           4735.628787\n",
       "horsepower           5098.387771\n",
       "length               5820.211340\n",
       "compression-ratio    6157.679671\n",
       "peak-rpm             6985.713614\n",
       "stroke               7062.851004\n",
       "height               7142.493773\n",
       "bore                 7583.700633\n",
       "dtype: float64"
      ]
     },
     "execution_count": 19,
     "metadata": {},
     "output_type": "execute_result"
    }
   ],
   "source": [
    "rmses_series"
   ]
  },
  {
   "cell_type": "markdown",
   "metadata": {},
   "source": [
    "## Iterating on K"
   ]
  },
  {
   "cell_type": "code",
   "execution_count": 20,
   "metadata": {},
   "outputs": [],
   "source": [
    "k_vals = [1,3,5,7]\n",
    "\n",
    "col_rmses = {}\n",
    "for col in train_cols:\n",
    "    k_rmses = {}\n",
    "    for k in k_vals:\n",
    "        k_rmses[k] = knn_train_test(col,'price',normalized_cars,k)\n",
    "    col_rmses[col] = k_rmses"
   ]
  },
  {
   "cell_type": "code",
   "execution_count": 21,
   "metadata": {},
   "outputs": [
    {
     "name": "stdout",
     "output_type": "stream",
     "text": [
      "engine size: \n",
      "{1: 3818.7331669023433, 3: 3125.493809428804, 5: 3070.028813056972, 7: 3121.128479200027}\n",
      "curb weight: \n",
      "{1: 3187.176928725483, 3: 3249.119977864091, 5: 3316.148829742115, 7: 3429.259924174751}\n",
      "city mpg: \n",
      "{1: 4415.383134564881, 3: 4190.296940883519, 5: 3828.3029694631014, 7: 3559.936920302185}\n"
     ]
    }
   ],
   "source": [
    "print('engine size: ')\n",
    "print(col_rmses['engine-size'])\n",
    "\n",
    "print('curb weight: ')\n",
    "print(col_rmses['curb-weight'])\n",
    "\n",
    "print('city mpg: ')\n",
    "print(col_rmses['city-mpg'])\n"
   ]
  },
  {
   "cell_type": "code",
   "execution_count": 22,
   "metadata": {},
   "outputs": [
    {
     "data": {
      "image/png": "[encoded data removed]",
      "text/plain": [
       "<Figure size 432x288 with 1 Axes>"
      ]
     },
     "metadata": {
      "needs_background": "light"
     },
     "output_type": "display_data"
    }
   ],
   "source": [
    "import matplotlib.pyplot as plt\n",
    "%matplotlib inline\n",
    "labels = []\n",
    "for k,v in col_rmses.items():\n",
    "    \n",
    "\n",
    "    x = list(v.keys())\n",
    "    y = list(v.values())\n",
    "    \n",
    "    plt.scatter(x,y)\n",
    "    plt.xlabel('k value')\n",
    "    plt.ylabel('RMSE')\n"
   ]
  },
  {
   "cell_type": "markdown",
   "metadata": {},
   "source": [
    "## Multivariate Model\n",
    "\n",
    "Here we're going to take the best performing features from above and test our model with multiple features. We'll test with 2, 3, 4, and 5 features."
   ]
  },
  {
   "cell_type": "code",
   "execution_count": 23,
   "metadata": {},
   "outputs": [],
   "source": [
    "def knn_train_test_multi(train_cols, target_col, df, k=5):\n",
    "    np.random.seed(1)\n",
    "    # Randomize the order of the input dataframe\n",
    "    shuffled_index = np.random.permutation(df.index)\n",
    "    rand_df = df.reindex(shuffled_index)\n",
    "    #Find the row at which we split the dataframe into train and test\n",
    "    split = int(round(len(df)*0.5,0))\n",
    "    \n",
    "    #Split the data\n",
    "    train = rand_df.iloc[0:split]\n",
    "    test = rand_df.iloc[split:]\n",
    "    \n",
    "    #Istantiate and fit the model, then predict test values\n",
    "    model = KNeighborsRegressor(n_neighbors = k)\n",
    "    model.fit(train[train_cols],train[target_col])\n",
    "    prediction = model.predict(test[train_cols])\n",
    "    \n",
    "    #Compute root mean squared error of test\n",
    "    rmse = (mean_squared_error(test[target_col],prediction))**0.5\n",
    "    \n",
    "    return(rmse)\n",
    "    \n"
   ]
  },
  {
   "cell_type": "code",
   "execution_count": 24,
   "metadata": {},
   "outputs": [],
   "source": [
    "rmses_multi = {}\n",
    "\n",
    "for i in range (2,6):\n",
    "    cols = pd.Series(rmses_series.index[0:i])\n",
    "    rmses_multi[i] = knn_train_test_multi(cols, 'price', normalized_cars, k=5)"
   ]
  },
  {
   "cell_type": "code",
   "execution_count": 25,
   "metadata": {},
   "outputs": [
    {
     "data": {
      "text/plain": [
       "{2: 3430.242942526444,\n",
       " 3: 3292.0894714331193,\n",
       " 4: 3541.702963600454,\n",
       " 5: 3551.6121378638436}"
      ]
     },
     "execution_count": 25,
     "metadata": {},
     "output_type": "execute_result"
    }
   ],
   "source": [
    "rmses_multi"
   ]
  },
  {
   "cell_type": "markdown",
   "metadata": {},
   "source": [
    "## Tuning Hyperparameters"
   ]
  },
  {
   "cell_type": "code",
   "execution_count": 26,
   "metadata": {},
   "outputs": [],
   "source": [
    "rmses_multi_k = {}\n",
    "\n",
    "for i in range (2,6):\n",
    "    rmses_k = {}\n",
    "    for k in range(1,26):\n",
    "\n",
    "        cols = pd.Series(rmses_series.index[0:i])\n",
    "        rmses_k[k] = knn_train_test_multi(cols, 'price', normalized_cars, k)\n",
    "    rmses_multi_k['{} best features'.format(i)] = rmses_k"
   ]
  },
  {
   "cell_type": "code",
   "execution_count": 27,
   "metadata": {},
   "outputs": [
    {
     "data": {
      "text/plain": [
       "<matplotlib.legend.Legend at 0x1cd9c40ad90>"
      ]
     },
     "execution_count": 27,
     "metadata": {},
     "output_type": "execute_result"
    },
    {
     "data": {
      "image/png": "[encoded data removed]",
      "text/plain": [
       "<Figure size 432x288 with 1 Axes>"
      ]
     },
     "metadata": {
      "needs_background": "light"
     },
     "output_type": "display_data"
    }
   ],
   "source": [
    "\n",
    "labels = []\n",
    "for k,v in rmses_multi_k.items():\n",
    "    \n",
    "    labels.append(k)\n",
    "    x = list(v.keys())\n",
    "    y = list(v.values())\n",
    "    \n",
    "    plt.plot(x,y)\n",
    "    plt.xlabel('k value')\n",
    "    plt.ylabel('RMSE')\n",
    "plt.legend(labels,loc='lower right')"
   ]
  },
  {
   "cell_type": "markdown",
   "metadata": {},
   "source": [
    "## Conclusions\n",
    "\n",
    "We saw consistently in this project that a low k-value provided better predictions than high k-values. This could be because of the limited scope of our dataset - with just 201 cars in our database, we are unlikely to have a large number of similar cars to each given car. With more data, we might see that a higher k-value increases the accuracy of the model."
   ]
  },
  {
   "cell_type": "code",
   "execution_count": null,
   "metadata": {},
   "outputs": [],
   "source": []
  }
 ],
 "metadata": {
  "kernelspec": {
   "display_name": "Python 3",
   "language": "python",
   "name": "python3"
  },
  "language_info": {
   "codemirror_mode": {
    "name": "ipython",
    "version": 3
   },
   "file_extension": ".py",
   "mimetype": "text/x-python",
   "name": "python",
   "nbconvert_exporter": "python",
   "pygments_lexer": "ipython3",
   "version": "3.8.3"
  }
 },
 "nbformat": 4,
 "nbformat_minor": 4
}
